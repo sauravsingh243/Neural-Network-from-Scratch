{
  "nbformat": 4,
  "nbformat_minor": 0,
  "metadata": {
    "colab": {
      "name": "Ques1_HW5.ipynb",
      "provenance": []
    },
    "kernelspec": {
      "name": "python3",
      "display_name": "Python 3"
    },
    "language_info": {
      "name": "python"
    }
  },
  "cells": [
    {
      "cell_type": "code",
      "execution_count": 1,
      "metadata": {
        "colab": {
          "base_uri": "https://localhost:8080/"
        },
        "id": "c2WfG7GVowHZ",
        "outputId": "b15a7065-b049-4338-dc3e-35ca7befb6ce"
      },
      "outputs": [
        {
          "output_type": "stream",
          "name": "stdout",
          "text": [
            "Mounted at /content/drive/\n"
          ]
        }
      ],
      "source": [
        "from google.colab import drive\n",
        "drive.mount('/content/drive/')"
      ]
    },
    {
      "cell_type": "markdown",
      "source": [
        "Importing Libraries"
      ],
      "metadata": {
        "id": "JpFBk57m55md"
      }
    },
    {
      "cell_type": "code",
      "source": [
        "import numpy as np\n",
        "import math\n",
        "from PIL import Image\n",
        "import matplotlib.pyplot as plt\n",
        "from sklearn.decomposition import PCA\n",
        "from sklearn import svm\n",
        "from sklearn.discriminant_analysis import LinearDiscriminantAnalysis\n",
        "from scipy.special import softmax"
      ],
      "metadata": {
        "id": "_yiBV9yxo-DQ"
      },
      "execution_count": 2,
      "outputs": []
    },
    {
      "cell_type": "markdown",
      "source": [
        "Function for calculating accuracy"
      ],
      "metadata": {
        "id": "FY_svX-u5-If"
      }
    },
    {
      "cell_type": "code",
      "source": [
        "def calculateAccuracy(A, B):\n",
        "  counter = 0\n",
        "  for i in range(0, len(A)):\n",
        "    if(A[i] == B[i]):\n",
        "      counter += 1\n",
        "  return (counter / len(A)) * 100"
      ],
      "metadata": {
        "id": "41GRmlXFpDFy"
      },
      "execution_count": 3,
      "outputs": []
    },
    {
      "cell_type": "markdown",
      "source": [
        "Loading happy images"
      ],
      "metadata": {
        "id": "y9FyemeN6DJ-"
      }
    },
    {
      "cell_type": "code",
      "source": [
        "happyImages = [\n",
        "    np.concatenate(np.array(Image.open('drive/MyDrive/Data/emotion_classification/train/subject01.happy.gif').resize((100, 100)))),\n",
        "    np.concatenate(np.array(Image.open('drive/MyDrive/Data/emotion_classification/train/subject02.happy.gif').resize((100, 100)))),\n",
        "    np.concatenate(np.array(Image.open('drive/MyDrive/Data/emotion_classification/train/subject04.happy.gif').resize((100, 100)))),\n",
        "    np.concatenate(np.array(Image.open('drive/MyDrive/Data/emotion_classification/train/subject06.happy.gif').resize((100, 100)))),\n",
        "    np.concatenate(np.array(Image.open('drive/MyDrive/Data/emotion_classification/train/subject07.happy.gif').resize((100, 100)))),\n",
        "    np.concatenate(np.array(Image.open('drive/MyDrive/Data/emotion_classification/train/subject09.happy.gif').resize((100, 100)))),\n",
        "    np.concatenate(np.array(Image.open('drive/MyDrive/Data/emotion_classification/train/subject10.happy.gif').resize((100, 100)))),\n",
        "    np.concatenate(np.array(Image.open('drive/MyDrive/Data/emotion_classification/train/subject12.happy.gif').resize((100, 100)))),\n",
        "    np.concatenate(np.array(Image.open('drive/MyDrive/Data/emotion_classification/train/subject13.happy.gif').resize((100, 100))))]\n",
        "\n",
        "\n",
        "happyImages = np.array(happyImages)/255\n",
        "# happyImages = happyImages.T\n",
        "print(happyImages.shape)"
      ],
      "metadata": {
        "colab": {
          "base_uri": "https://localhost:8080/"
        },
        "id": "dy0Z5pz_pDgj",
        "outputId": "e3a5ada4-7335-4273-b668-81613846e089"
      },
      "execution_count": 4,
      "outputs": [
        {
          "output_type": "stream",
          "name": "stdout",
          "text": [
            "(9, 10000)\n"
          ]
        }
      ]
    },
    {
      "cell_type": "markdown",
      "source": [
        "Loading sad images"
      ],
      "metadata": {
        "id": "yxsdU5GB6GKr"
      }
    },
    {
      "cell_type": "code",
      "source": [
        "sadImages = [\n",
        "    np.concatenate(np.array(Image.open('drive/MyDrive/Data/emotion_classification/train/subject02.sad.gif').resize((100, 100)))),\n",
        "    np.concatenate(np.array(Image.open('drive/MyDrive/Data/emotion_classification/train/subject03.sad.gif').resize((100, 100)))),\n",
        "    np.concatenate(np.array(Image.open('drive/MyDrive/Data/emotion_classification/train/subject04.sad.gif').resize((100, 100)))),\n",
        "    np.concatenate(np.array(Image.open('drive/MyDrive/Data/emotion_classification/train/subject05.sad.gif').resize((100, 100)))),\n",
        "    np.concatenate(np.array(Image.open('drive/MyDrive/Data/emotion_classification/train/subject06.sad.gif').resize((100, 100)))),\n",
        "    np.concatenate(np.array(Image.open('drive/MyDrive/Data/emotion_classification/train/subject07.sad.gif').resize((100, 100)))),\n",
        "    np.concatenate(np.array(Image.open('drive/MyDrive/Data/emotion_classification/train/subject09.sad.gif').resize((100, 100)))),\n",
        "    np.concatenate(np.array(Image.open('drive/MyDrive/Data/emotion_classification/train/subject10.sad.gif').resize((100, 100)))),\n",
        "    np.concatenate(np.array(Image.open('drive/MyDrive/Data/emotion_classification/train/subject11.sad.gif').resize((100, 100)))),\n",
        "    np.concatenate(np.array(Image.open('drive/MyDrive/Data/emotion_classification/train/subject12.sad.gif').resize((100, 100)))),\n",
        "    np.concatenate(np.array(Image.open('drive/MyDrive/Data/emotion_classification/train/subject13.sad.gif').resize((100, 100)))),]\n",
        "\n",
        "sadImages = np.array(sadImages)/255\n",
        "# sadImages = sadImages.T\n",
        "print(sadImages.shape)"
      ],
      "metadata": {
        "colab": {
          "base_uri": "https://localhost:8080/"
        },
        "id": "th1MChVSpJe7",
        "outputId": "3759b762-0244-4837-c75f-cdd36b4cac27"
      },
      "execution_count": 5,
      "outputs": [
        {
          "output_type": "stream",
          "name": "stdout",
          "text": [
            "(11, 10000)\n"
          ]
        }
      ]
    },
    {
      "cell_type": "markdown",
      "source": [
        "Combining both sad and happy images"
      ],
      "metadata": {
        "id": "LjSgvqtj6nFv"
      }
    },
    {
      "cell_type": "code",
      "source": [
        "trainData = np.concatenate((happyImages, sadImages), axis=0)\n",
        "trainData.shape"
      ],
      "metadata": {
        "colab": {
          "base_uri": "https://localhost:8080/"
        },
        "id": "wuo5jOQrpM45",
        "outputId": "3198902d-22e0-40dc-d578-d2efca1010d3"
      },
      "execution_count": 6,
      "outputs": [
        {
          "output_type": "execute_result",
          "data": {
            "text/plain": [
              "(20, 10000)"
            ]
          },
          "metadata": {},
          "execution_count": 6
        }
      ]
    },
    {
      "cell_type": "markdown",
      "source": [
        "Loading training labels"
      ],
      "metadata": {
        "id": "s9-8nzHk65V8"
      }
    },
    {
      "cell_type": "code",
      "source": [
        "trainLabels = []\n",
        "temp1 = []\n",
        "temp2 = []\n",
        "for i in range(0, 20):\n",
        "  if i < 9:\n",
        "    temp1.append(1)\n",
        "    temp2.append(0)\n",
        "  else:\n",
        "    temp1.append(0)\n",
        "    temp2.append(1)\n",
        "trainLabels.append(temp1)\n",
        "trainLabels.append(temp2)\n",
        "trainLabels = np.array(trainLabels)\n",
        "trainLabels.shape"
      ],
      "metadata": {
        "colab": {
          "base_uri": "https://localhost:8080/"
        },
        "id": "1Z0MRxqypZvA",
        "outputId": "3111c568-7bfd-4cfc-ca06-df4965bc594d"
      },
      "execution_count": 7,
      "outputs": [
        {
          "output_type": "execute_result",
          "data": {
            "text/plain": [
              "(2, 20)"
            ]
          },
          "metadata": {},
          "execution_count": 7
        }
      ]
    },
    {
      "cell_type": "markdown",
      "source": [
        "Loading test data"
      ],
      "metadata": {
        "id": "PbH0xnlb6_4b"
      }
    },
    {
      "cell_type": "code",
      "source": [
        "testData = []\n",
        "testData.append(np.concatenate(np.array(Image.open('drive/MyDrive/Data/emotion_classification/test/subject03.happy.gif').resize((100,100)))))\n",
        "testData.append(np.concatenate(np.array(Image.open('drive/MyDrive/Data/emotion_classification/test/subject05.happy.gif').resize((100,100)))))\n",
        "testData.append(np.concatenate(np.array(Image.open('drive/MyDrive/Data/emotion_classification/test/subject08.happy.gif').resize((100,100)))))\n",
        "testData.append(np.concatenate(np.array(Image.open('drive/MyDrive/Data/emotion_classification/test/subject11.happy.gif').resize((100,100)))))\n",
        "testData.append(np.concatenate(np.array(Image.open('drive/MyDrive/Data/emotion_classification/test/subject14.happy.gif').resize((100,100)))))\n",
        "testData.append(np.concatenate(np.array(Image.open('drive/MyDrive/Data/emotion_classification/test/subject15.happy.gif').resize((100,100)))))\n",
        "testData.append(np.concatenate(np.array(Image.open('drive/MyDrive/Data/emotion_classification/test/subject01.sad.gif').resize((100,100)))))\n",
        "testData.append(np.concatenate(np.array(Image.open('drive/MyDrive/Data/emotion_classification/test/subject08.sad.gif').resize((100,100)))))\n",
        "testData.append(np.concatenate(np.array(Image.open('drive/MyDrive/Data/emotion_classification/test/subject14.sad.gif').resize((100,100)))))\n",
        "testData.append(np.concatenate(np.array(Image.open('drive/MyDrive/Data/emotion_classification/test/subject15.sad.gif').resize((100,100)))))\n",
        "testData = np.array(testData)/255\n",
        "testData.shape"
      ],
      "metadata": {
        "colab": {
          "base_uri": "https://localhost:8080/"
        },
        "id": "Whry8gkoqXHe",
        "outputId": "7c08a9a4-a4ad-4035-ed1f-4d8405515fa3"
      },
      "execution_count": 8,
      "outputs": [
        {
          "output_type": "execute_result",
          "data": {
            "text/plain": [
              "(10, 10000)"
            ]
          },
          "metadata": {},
          "execution_count": 8
        }
      ]
    },
    {
      "cell_type": "markdown",
      "source": [
        "Loading test labels"
      ],
      "metadata": {
        "id": "IIwYYoRC7DBN"
      }
    },
    {
      "cell_type": "code",
      "source": [
        "testLabels = []\n",
        "for i in range(0, 10):\n",
        "  if i < 6:\n",
        "    testLabels.append(0)\n",
        "  else:\n",
        "    testLabels.append(1)\n",
        "testLabels = np.array(testLabels)\n",
        "testLabels = testLabels.T\n",
        "testLabels = np.reshape(testLabels, (1, 10))\n",
        "testLabels"
      ],
      "metadata": {
        "colab": {
          "base_uri": "https://localhost:8080/"
        },
        "id": "UvtUZfzBqf9W",
        "outputId": "70643ced-c888-4d7a-824c-dce755a9391c"
      },
      "execution_count": 9,
      "outputs": [
        {
          "output_type": "execute_result",
          "data": {
            "text/plain": [
              "array([[0, 0, 0, 0, 0, 0, 1, 1, 1, 1]])"
            ]
          },
          "metadata": {},
          "execution_count": 9
        }
      ]
    },
    {
      "cell_type": "markdown",
      "source": [
        "Applying PCA on train data"
      ],
      "metadata": {
        "id": "kHSBWXsu7FU3"
      }
    },
    {
      "cell_type": "code",
      "source": [
        "PCAObject = PCA(n_components = 12)\n",
        "PCAData = PCAObject.fit_transform(trainData)\n",
        "PCAData = PCAData.T\n",
        "trainPCAData = PCAData\n",
        "trainPCAData.shape"
      ],
      "metadata": {
        "colab": {
          "base_uri": "https://localhost:8080/"
        },
        "id": "g9By1rNMpd6L",
        "outputId": "1a0a9f28-8124-4cb8-ac98-6484b476c3b9"
      },
      "execution_count": 10,
      "outputs": [
        {
          "output_type": "execute_result",
          "data": {
            "text/plain": [
              "(12, 20)"
            ]
          },
          "metadata": {},
          "execution_count": 10
        }
      ]
    },
    {
      "cell_type": "markdown",
      "source": [
        "Transform test data"
      ],
      "metadata": {
        "id": "h4RFKVfn7Kt7"
      }
    },
    {
      "cell_type": "code",
      "source": [
        "testPCAData = PCAObject.transform(testData)\n",
        "testPCAData = testPCAData.T\n",
        "testPCAData.shape"
      ],
      "metadata": {
        "colab": {
          "base_uri": "https://localhost:8080/"
        },
        "id": "6BeRQ0XYrvpi",
        "outputId": "07e987ac-5b3b-4c61-fe3d-6a405bde5471"
      },
      "execution_count": 11,
      "outputs": [
        {
          "output_type": "execute_result",
          "data": {
            "text/plain": [
              "(12, 10)"
            ]
          },
          "metadata": {},
          "execution_count": 11
        }
      ]
    },
    {
      "cell_type": "markdown",
      "source": [
        "Function for ReLu"
      ],
      "metadata": {
        "id": "ZDPt4-yv7OGE"
      }
    },
    {
      "cell_type": "code",
      "source": [
        "def ReLu(x,state):\n",
        "    if state == 'derivative':\n",
        "        return x>0\n",
        "    else:\n",
        "        return np.maximum(0,x)"
      ],
      "metadata": {
        "id": "i8jgUZKHp1Po"
      },
      "execution_count": 12,
      "outputs": []
    },
    {
      "cell_type": "code",
      "source": [
        "def randomWeights():\n",
        "    W1 = np.random.randn(10, 12)\n",
        "    W2 = np.random.randn(2, 10)\n",
        "    return W1, W2"
      ],
      "metadata": {
        "id": "Ordg6H8Bqlt6"
      },
      "execution_count": 13,
      "outputs": []
    },
    {
      "cell_type": "code",
      "source": [
        "def randomBias():\n",
        "    B1 = np.random.randn(10, 1)\n",
        "    matrix = np.matrix(np.zeros((10,20)))\n",
        "    B1 = matrix + B1\n",
        "\n",
        "    B2 = np.random.randn(2, 1)\n",
        "    matrix = np.matrix(np.zeros((2,20)))\n",
        "    B2 = matrix + B2\n",
        "    return B1, B2"
      ],
      "metadata": {
        "id": "QBXDDcsQrYv9"
      },
      "execution_count": 14,
      "outputs": []
    },
    {
      "cell_type": "markdown",
      "source": [
        "Neural Network with forward and backward propagation"
      ],
      "metadata": {
        "id": "pEF9n6j97i05"
      }
    },
    {
      "cell_type": "code",
      "source": [
        "class NeuralNetwork():\n",
        "    def __init__(self, learningRate, inputData, targetData, numberOfIteration, hiddenLayerSize):\n",
        "        self.learningRate = learningRate\n",
        "        self.inputData = inputData\n",
        "        self.targetData = targetData\n",
        "        self.numberOfIteration = numberOfIteration\n",
        "        self.hiddenLayerSize = hiddenLayerSize\n",
        "        self.weight1, self.weight2 = self.randomWeights()\n",
        "        self.bias1, self.bias2 = self.randomBias()\n",
        "        self.inputLayerSize = inputData.shape[1]\n",
        "        self.outputLayerSize = 2\n",
        "        self.m = 20\n",
        "        \n",
        "    def randomWeights(self):\n",
        "        W1 = np.random.randn(self.hiddenLayerSize, 12)\n",
        "        W2 = np.random.randn(2, self.hiddenLayerSize)\n",
        "        return W1, W2\n",
        "    \n",
        "    def randomBias(self):\n",
        "        B1 = np.random.randn(self.hiddenLayerSize, 1)\n",
        "        matrix = np.matrix(np.zeros((self.hiddenLayerSize, 20)))\n",
        "        B1 = matrix + B1\n",
        "\n",
        "        B2 = np.random.randn(2, 1)\n",
        "        matrix = np.matrix(np.zeros((2,20)))\n",
        "        B2 = matrix + B2\n",
        "        return B1, B2\n",
        "\n",
        "    def crossEntropy(self, predictions, targets, epsilon=1e-12):\n",
        "        ce = np.sum(np.multiply(targets, np.log(predictions+1e-9))) / 20\n",
        "        return ce\n",
        "\n",
        "    def forwardPropagation(self, data, mode):\n",
        "        if(mode == 'train'):\n",
        "            self.Z1 = np.dot(self.weight1 , data) + self.bias1\n",
        "            self.A1 = ReLu(self.Z1, 'normal')\n",
        "            self.Z2 = np.dot(self.weight2 , self.A1) + self.bias2\n",
        "            self.Y = self.A2 = softmax(self.Z2, axis = 0)\n",
        "        else:\n",
        "            b1 = self.bias1[:, :data.shape[1]]\n",
        "            b2 = self.bias2[:, :data.shape[1]]\n",
        "            self.Z1 = np.dot(self.weight1 , data) + b1\n",
        "            self.A1 = ReLu(self.Z1, 'normal')\n",
        "            self.Z2 = np.dot(self.weight2 , self.A1) + b2\n",
        "            self.Y = self.A2 = softmax(self.Z2, axis = 0)\n",
        "        return self.Y\n",
        "    \n",
        "    def backwardPropagation(self):\n",
        "        dz2 = self.Y - self.targetData\n",
        "        dw2 = dz2 @ self.A1.T\n",
        "        db2 = np.sum(dz2, axis = 1)\n",
        "        matrix = np.matrix(np.zeros((2,20)))\n",
        "        db2 = matrix + db2\n",
        "\n",
        "        dz1 = np.multiply((self.weight2.T @ dz2), ReLu(self.A1, 'derivative'))\n",
        "        dw1 = dz1 @ self.inputData.T\n",
        "        db1 = np.sum(dz1, axis = 1)\n",
        "        matrix = np.matrix(np.zeros((self.hiddenLayerSize,20)))\n",
        "        db1 = matrix + db1\n",
        "\n",
        "        self.weight1 = self.weight1 - (self.learningRate * dw1)\n",
        "        self.weight2 = self.weight2 - (self.learningRate * dw2)\n",
        "\n",
        "        self.bias1 = self.bias1 - (self.learningRate * db1)\n",
        "        self.bias2 = self.bias2 - (self.learningRate * db2)\n",
        "\n",
        "    def train(self):\n",
        "        lossFuncList = []\n",
        "        for _ in range(self.numberOfIteration):\n",
        "            Y = self.forwardPropagation(self.inputData, 'train')\n",
        "            lossFuncList.append(self.crossEntropy(Y, self.targetData))\n",
        "            self.backwardPropagation()\n",
        "        self.plotter(lossFuncList)\n",
        "\n",
        "    def plotter(self, lossFun):\n",
        "        lossFun = -1 * np.array(lossFun)\n",
        "        u = np.arange(start=1, stop=21, step=1)\n",
        "        plt.xlabel('Epoch number')\n",
        "        plt.ylabel('Loss Function')\n",
        "        plt.title('Loss function for Train data')\n",
        "        plt.plot(u,lossFun)\n",
        "        plt.show()\n",
        "    "
      ],
      "metadata": {
        "id": "eiqbHk6mtS6Q"
      },
      "execution_count": 15,
      "outputs": []
    },
    {
      "cell_type": "code",
      "source": [
        "def trainFunction(hiddenLayers):\n",
        "    NNObject = NeuralNetwork(\n",
        "        learningRate = 0.015,\n",
        "        inputData = trainPCAData,\n",
        "        targetData = trainLabels,\n",
        "        numberOfIteration = 20,\n",
        "        hiddenLayerSize = hiddenLayers\n",
        "    )\n",
        "    NNObject.train()\n",
        "\n",
        "    prediction = NNObject.forwardPropagation(testPCAData, 'test')\n",
        "    prediction = np.argmax(prediction, axis = 0)\n",
        "    return (np.sum(prediction == testLabels)/10)*100\n",
        "    # print((np.sum(prediction == testLabels)/10)*100)"
      ],
      "metadata": {
        "id": "7rrtp0TY-jM_"
      },
      "execution_count": 16,
      "outputs": []
    },
    {
      "cell_type": "code",
      "source": [
        "sum = []\n",
        "sum.append(trainFunction(10))\n",
        "print(f'Hidden Layer size: {10}, Accuracy : {sum[0]}')\n",
        "print(\"#####################################################################\")\n",
        "sum.append(trainFunction(15))\n",
        "print(f'Hidden Layer size: {15}, Accuracy : {sum[1]}')\n",
        "print(\"#####################################################################\")\n"
      ],
      "metadata": {
        "colab": {
          "base_uri": "https://localhost:8080/",
          "height": 644
        },
        "id": "Ruem9KkD-u-n",
        "outputId": "98490cee-2415-4592-9542-f0d05a915c46"
      },
      "execution_count": 22,
      "outputs": [
        {
          "output_type": "display_data",
          "data": {
            "text/plain": [
              "<Figure size 432x288 with 1 Axes>"
            ],
            "image/png": "[encoded data removed]"
          },
          "metadata": {
            "needs_background": "light"
          }
        },
        {
          "output_type": "stream",
          "name": "stdout",
          "text": [
            "Hidden Layer size: 10, Accuracy : 80.0\n",
            "#####################################################################\n"
          ]
        },
        {
          "output_type": "display_data",
          "data": {
            "text/plain": [
              "<Figure size 432x288 with 1 Axes>"
            ],
            "image/png": "[encoded data removed]"
          },
          "metadata": {
            "needs_background": "light"
          }
        },
        {
          "output_type": "stream",
          "name": "stdout",
          "text": [
            "Hidden Layer size: 15, Accuracy : 90.0\n",
            "#####################################################################\n"
          ]
        }
      ]
    },
    {
      "cell_type": "markdown",
      "source": [
        "# By increasing the number of hidden layer units there is an increment in the accuracy."
      ],
      "metadata": {
        "id": "gcm6_4kpuhpt"
      }
    }
  ]
}